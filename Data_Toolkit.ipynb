{
  "nbformat": 4,
  "nbformat_minor": 0,
  "metadata": {
    "colab": {
      "provenance": []
    },
    "kernelspec": {
      "name": "python3",
      "display_name": "Python 3"
    },
    "language_info": {
      "name": "python"
    }
  },
  "cells": [
    {
      "cell_type": "markdown",
      "source": [
        "# **Data Toolkit**"
      ],
      "metadata": {
        "id": "NcVDp46lmWo_"
      }
    },
    {
      "cell_type": "markdown",
      "source": [
        "1. What is NumPy, and why is it widely used in Python?"
      ],
      "metadata": {
        "id": "-x35bqed8-FY"
      }
    },
    {
      "cell_type": "markdown",
      "source": [
        "**1. What is NumPy, and why is it widely used in Python?**\n",
        "\n",
        "**NumPy** (Numerical Python) is a powerful open-source Python library used primarily for **numerical computing**. It provides support for **large, multi-dimensional arrays and matrices**, along with a collection of **high-level mathematical functions** to operate on these arrays.\n",
        "\n",
        "### Why NumPy is Widely Used:\n",
        "\n",
        "1. **Efficient Array Handling**:\n",
        "   NumPy arrays (`ndarray`) are more compact, faster, and more efficient than Python’s built-in lists for numerical operations.\n",
        "\n",
        "2. **Vectorized Operations**:\n",
        "   It supports vectorized operations (element-wise operations without explicit loops), leading to cleaner and faster code.\n",
        "\n",
        "3. **Mathematical and Statistical Functions**:\n",
        "   Includes a vast array of functions for linear algebra, Fourier transforms, random number generation, statistics, and more.\n",
        "\n",
        "4. **Interoperability**:\n",
        "   Works well with other scientific computing libraries like SciPy, pandas, scikit-learn, and TensorFlow.\n",
        "\n",
        "5. **C/C++ Integration**:\n",
        "   Parts of NumPy are written in C, making it much faster for heavy numerical tasks.\n",
        "\n",
        "6. **Foundation for Data Science & Machine Learning**:\n",
        "   Many libraries in data science and machine learning use NumPy internally or require NumPy arrays as inputs.\n",
        "\n"
      ],
      "metadata": {
        "id": "O92cLbKCm246"
      }
    },
    {
      "cell_type": "markdown",
      "source": [
        "2. How does broadcasting work in NumPy?"
      ],
      "metadata": {
        "id": "zi3lI0L5m5Wp"
      }
    },
    {
      "cell_type": "markdown",
      "source": [
        "**Broadcasting** in NumPy is a powerful mechanism that allows NumPy to perform arithmetic operations on arrays of **different shapes** in a **vectorized** way, without making unnecessary data copies.\n",
        "\n",
        "### How Broadcasting Works:\n",
        "\n",
        "When performing operations on two arrays, NumPy compares their shapes element-wise from **right to left** and applies the following **broadcasting rules**:\n",
        "\n",
        "---\n",
        "\n",
        "### **Broadcasting Rules**:\n",
        "\n",
        "1. If the arrays have **different numbers of dimensions**, the shape of the smaller array is padded with **ones on the left**.\n",
        "\n",
        "2. If the shape dimensions are **equal** or **one of them is 1**, they are **compatible**.\n",
        "\n",
        "3. If the dimensions are **not compatible**, NumPy will raise a `ValueError`.\n",
        "\n",
        "---\n",
        "\n",
        "### **Example 1: Basic Broadcasting**\n",
        "\n",
        "```python\n",
        "import numpy as np\n",
        "\n",
        "A = np.array([[1, 2, 3],\n",
        "              [4, 5, 6]])       # shape: (2, 3)\n",
        "\n",
        "B = np.array([10, 20, 30])      # shape: (3,)\n",
        "\n",
        "C = A + B                       # shape: (2, 3)\n",
        "print(C)\n",
        "```\n",
        "\n",
        "**Output:**\n",
        "\n",
        "```\n",
        "[[11 22 33]\n",
        " [14 25 36]]\n",
        "```\n",
        "\n",
        "> `B` is broadcast across each row of `A`.\n",
        "\n",
        "---\n",
        "\n",
        "### **Example 2: With Scalars**\n",
        "\n",
        "```python\n",
        "A = np.array([[1, 2], [3, 4]])  # shape: (2, 2)\n",
        "B = 10                         # scalar\n",
        "\n",
        "C = A + B\n",
        "print(C)\n",
        "```\n",
        "\n",
        "**Output:**\n",
        "\n",
        "```\n",
        "[[11 12]\n",
        " [13 14]]\n",
        "```\n",
        "\n",
        "> A scalar is broadcast to the shape of `A`.\n",
        "\n",
        "---\n",
        "\n",
        "### **Visual Summary**:\n",
        "\n",
        "| Shape A | Shape B | Resulting Shape | Broadcasting Possible? |\n",
        "| ------- | ------- | --------------- | ---------------------- |\n",
        "| (3, 1)  | (1, 4)  | (3, 4)          | ✅ Yes                  |\n",
        "| (2, 3)  | (2,)    | ❌ Error         | ❌ No (2 ≠ 3)           |\n",
        "\n",
        "\n"
      ],
      "metadata": {
        "id": "ZvKupoO_nAe1"
      }
    },
    {
      "cell_type": "markdown",
      "source": [
        "3. What is a Pandas DataFrame?"
      ],
      "metadata": {
        "id": "OEKJj4B3nJK0"
      }
    },
    {
      "cell_type": "markdown",
      "source": [
        "**3. What is a Pandas DataFrame?**\n",
        "\n",
        "A **Pandas DataFrame** is a **two-dimensional**, **labeled data structure** in Python, similar to a **spreadsheet**, **SQL table**, or **dictionary of Series objects**. It is one of the core data structures provided by the **pandas** library, widely used for data manipulation and analysis.\n",
        "\n",
        "---\n",
        "\n",
        "### **Key Features of a DataFrame:**\n",
        "\n",
        "* **Rows and Columns**:\n",
        "  Data is organized in **rows** and **columns**, each with labels (index and column names).\n",
        "\n",
        "* **Heterogeneous Data**:\n",
        "  Columns can hold **different data types** (e.g., int, float, string).\n",
        "\n",
        "* **Indexing & Labeling**:\n",
        "  Flexible and powerful indexing using **labels** and **integer positions**.\n",
        "\n",
        "* **Missing Data Handling**:\n",
        "  Built-in tools to **detect**, **filter**, and **fill** missing data (`NaN`).\n",
        "\n",
        "* **Powerful Data Operations**:\n",
        "  Supports **filtering**, **grouping**, **aggregation**, **joining**, and **reshaping**.\n",
        "\n",
        "---\n",
        "\n",
        "### **Example: Creating a DataFrame**\n",
        "\n",
        "```python\n",
        "import pandas as pd\n",
        "\n",
        "data = {\n",
        "    'Name': ['Alice', 'Bob', 'Charlie'],\n",
        "    'Age': [25, 30, 35],\n",
        "    'City': ['New York', 'Los Angeles', 'Chicago']\n",
        "}\n",
        "\n",
        "df = pd.DataFrame(data)\n",
        "print(df)\n",
        "```\n",
        "\n",
        "**Output:**\n",
        "\n",
        "```\n",
        "      Name  Age         City\n",
        "0    Alice   25     New York\n",
        "1      Bob   30  Los Angeles\n",
        "2  Charlie   35      Chicago\n",
        "```\n",
        "\n",
        "---\n",
        "\n",
        "A Pandas DataFrame is the **go-to structure** for most data analysis tasks in Python due to its **flexibility**, **efficiency**, and wide **integration with data tools**.\n",
        "\n",
        "\n"
      ],
      "metadata": {
        "id": "rR3NglIJnX6-"
      }
    },
    {
      "cell_type": "markdown",
      "source": [
        "4.  Explain the use of the groupby() method in Pandas?"
      ],
      "metadata": {
        "id": "QnkFPpsOncde"
      }
    },
    {
      "cell_type": "markdown",
      "source": [
        "**4. Explain the use of the `groupby()` method in Pandas**\n",
        "\n",
        "The `groupby()` method in Pandas is used to **split** a DataFrame into groups based on the values in one or more columns, and then **apply aggregate functions** (like `sum()`, `mean()`, `count()`, etc.) to each group. It's a powerful tool for **data analysis**, especially for summarizing and transforming data.\n",
        "\n",
        "---\n",
        "\n",
        "### **The GroupBy Process: Split-Apply-Combine**\n",
        "\n",
        "1. **Split**: Divide the data into groups based on some criteria (e.g., a column's values).\n",
        "2. **Apply**: Apply a function to each group independently (e.g., aggregation, transformation).\n",
        "3. **Combine**: Merge the results into a new DataFrame.\n",
        "\n",
        "---\n",
        "\n",
        "### **Example: Basic Usage**\n",
        "\n",
        "```python\n",
        "import pandas as pd\n",
        "\n",
        "data = {\n",
        "    'Department': ['Sales', 'Sales', 'HR', 'HR', 'IT'],\n",
        "    'Employee': ['Alice', 'Bob', 'Charlie', 'David', 'Eve'],\n",
        "    'Salary': [50000, 55000, 60000, 58000, 70000]\n",
        "}\n",
        "\n",
        "df = pd.DataFrame(data)\n",
        "\n",
        "# Group by Department and calculate average salary\n",
        "grouped = df.groupby('Department')['Salary'].mean()\n",
        "print(grouped)\n",
        "```\n",
        "\n",
        "**Output:**\n",
        "\n",
        "```\n",
        "Department\n",
        "HR       59000.0\n",
        "IT       70000.0\n",
        "Sales    52500.0\n",
        "Name: Salary, dtype: float64\n",
        "```\n",
        "\n",
        "---\n",
        "\n",
        "### **Multiple Aggregations**\n",
        "\n",
        "```python\n",
        "df.groupby('Department')['Salary'].agg(['mean', 'max', 'min'])\n",
        "```\n",
        "\n",
        "This returns a DataFrame with mean, max, and min salary per department.\n",
        "\n",
        "---\n",
        "\n",
        "### **Use Cases**:\n",
        "\n",
        "* Finding totals or averages per category (e.g., total sales per region).\n",
        "* Counting records per group (e.g., number of employees per department).\n",
        "* Applying custom functions to grouped data.\n",
        "\n"
      ],
      "metadata": {
        "id": "LQC99pPBnmUB"
      }
    },
    {
      "cell_type": "markdown",
      "source": [
        "5. Why is Seaborn preferred for statistical visualizations?"
      ],
      "metadata": {
        "id": "zeCM1SIunrgZ"
      }
    },
    {
      "cell_type": "markdown",
      "source": [
        "**5. Why is Seaborn preferred for statistical visualizations?**\n",
        "\n",
        "**Seaborn** is a high-level Python data visualization library built on top of **Matplotlib**. It is widely preferred for **statistical visualizations** because it provides a **simpler interface**, **aesthetic default styles**, and **powerful tools** for exploring relationships in data.\n",
        "\n",
        "---\n",
        "\n",
        "### **Key Reasons Seaborn Is Preferred:**\n",
        "\n",
        "1. **Built-in Statistical Plots**:\n",
        "   Seaborn offers ready-to-use statistical charts like:\n",
        "\n",
        "   * `boxplot()`, `violinplot()` (distribution)\n",
        "   * `barplot()` (categorical stats with confidence intervals)\n",
        "   * `lmplot()`, `regplot()` (linear regression)\n",
        "\n",
        "2. **Beautiful Default Styles**:\n",
        "   Automatically applies attractive color palettes and layouts, saving time on styling.\n",
        "\n",
        "3. **Simplified Syntax**:\n",
        "   Easier to use for common tasks compared to raw Matplotlib.\n",
        "\n",
        "4. **Works Well with Pandas**:\n",
        "   Accepts Pandas DataFrames directly, using column names for axes, hue, etc.\n",
        "\n",
        "5. **Multi-variable Visualization**:\n",
        "   Easily visualize complex relationships using:\n",
        "\n",
        "   * `hue`, `row`, `col` parameters for faceting\n",
        "   * `pairplot()`, `heatmap()`, `catplot()`\n",
        "\n",
        "6. **Integration with Matplotlib**:\n",
        "   Can be extended or fine-tuned using Matplotlib for custom needs.\n",
        "\n",
        "---\n",
        "\n",
        "### **Example: Quick Visualization with Seaborn**\n",
        "\n",
        "```python\n",
        "import seaborn as sns\n",
        "import pandas as pd\n",
        "\n",
        "# Load example dataset\n",
        "tips = sns.load_dataset('tips')\n",
        "\n",
        "# Show average tip by day\n",
        "sns.barplot(x='day', y='tip', data=tips)\n",
        "```\n",
        "\n",
        "This creates a bar chart showing the **mean tip amount** per day with **confidence intervals**, all with minimal code.\n",
        "\n",
        "---\n",
        "\n",
        "In short, Seaborn is preferred for statistical visualizations because it makes complex plots **easy to create**, **aesthetically pleasing**, and **statistically informative**.\n",
        "\n"
      ],
      "metadata": {
        "id": "Tp8zRqyqoA2I"
      }
    },
    {
      "cell_type": "markdown",
      "source": [
        "6. What are the differences between NumPy arrays and Python lists?"
      ],
      "metadata": {
        "id": "xv_50YkroCuu"
      }
    },
    {
      "cell_type": "markdown",
      "source": [
        "**Differences Between NumPy Arrays and Python Lists**\n",
        "\n",
        "While both **NumPy arrays** and **Python lists** can store sequences of elements, they have significant differences in terms of **performance**, **functionality**, and **behavior**, especially for numerical and scientific computing.\n",
        "\n",
        "---\n",
        "\n",
        "### 🔍 **Key Differences:**\n",
        "\n",
        "| Feature                | **NumPy Array**                                 | **Python List**                          |\n",
        "| ---------------------- | ----------------------------------------------- | ---------------------------------------- |\n",
        "| **Data Type**          | Homogeneous (all elements of same type)         | Heterogeneous (can store mixed types)    |\n",
        "| **Performance**        | Much faster (implemented in C, vectorized ops)  | Slower (uses Python loops internally)    |\n",
        "| **Memory Usage**       | More efficient (contiguous memory block)        | Higher memory usage                      |\n",
        "| **Functionality**      | Supports mathematical operations & broadcasting | No direct support for math operations    |\n",
        "| **Operations**         | Element-wise (e.g., `array1 + array2`)          | Must loop manually (e.g., `for` loops)   |\n",
        "| **Slicing & Indexing** | More powerful (multi-dimensional support)       | Basic slicing, no true multi-dim support |\n",
        "| **Best Use Case**      | Large-scale numeric data processing             | General-purpose, smaller mixed-type data |\n",
        "\n",
        "---\n",
        "\n",
        "### ✅ **Example Comparison**:\n",
        "\n",
        "```python\n",
        "import numpy as np\n",
        "\n",
        "# NumPy array\n",
        "a = np.array([1, 2, 3])\n",
        "print(a + 10)     # Output: [11 12 13]\n",
        "\n",
        "# Python list\n",
        "b = [1, 2, 3]\n",
        "print(b + [10])   # Output: [1, 2, 3, 10] — list concatenation, not element-wise addition\n",
        "```\n",
        "\n",
        "---\n",
        "\n",
        "### 📌 Summary:\n",
        "\n",
        "* Use **NumPy arrays** when you're working with **large numeric data**, need **performance**, and want access to **powerful math operations**.\n",
        "* Use **Python lists** for **general-purpose programming**, especially when the data types are mixed or performance isn’t critical.\n",
        "\n",
        "\n"
      ],
      "metadata": {
        "id": "gWGzLNxuoIIE"
      }
    },
    {
      "cell_type": "markdown",
      "source": [
        "7. What is a heatmap, and when should it be used?"
      ],
      "metadata": {
        "id": "-CECXY_bohE7"
      }
    },
    {
      "cell_type": "markdown",
      "source": [
        "**What is a Heatmap, and When Should It Be Used?**\n",
        "\n",
        "A **heatmap** is a **data visualization** technique that uses **color to represent values** in a two-dimensional matrix or table. Each cell’s color intensity indicates the magnitude of the data point it represents.\n",
        "\n",
        "---\n",
        "\n",
        "### 🔥 **Key Features of a Heatmap:**\n",
        "\n",
        "* Displays **numerical data** in a matrix form.\n",
        "* Uses **color gradients** (e.g., light to dark, cold to warm) to show **data magnitude**.\n",
        "* Easy to spot **patterns, correlations, or anomalies**.\n",
        "\n",
        "---\n",
        "\n",
        "### ✅ **When to Use a Heatmap:**\n",
        "\n",
        "1. **To Visualize Correlation Matrices**:\n",
        "\n",
        "   * Quickly see how features are related (positive or negative correlation).\n",
        "   * Example: `sns.heatmap(df.corr())` in Seaborn.\n",
        "\n",
        "2. **To Display Matrix-Like Data**:\n",
        "\n",
        "   * E.g., confusion matrices in classification models, distance matrices, etc.\n",
        "\n",
        "3. **To Detect Outliers or Trends**:\n",
        "\n",
        "   * Use color intensity to highlight high or low values in datasets.\n",
        "\n",
        "4. **For Time-Series or Pivoted Data**:\n",
        "\n",
        "   * Show metrics over time (e.g., sales per day/hour across months).\n",
        "\n",
        "---\n",
        "\n",
        "### 🧪 **Example in Python (Seaborn):**\n",
        "\n",
        "```python\n",
        "import seaborn as sns\n",
        "import pandas as pd\n",
        "import matplotlib.pyplot as plt\n",
        "\n",
        "# Sample correlation heatmap\n",
        "df = sns.load_dataset('iris')\n",
        "corr = df.corr(numeric_only=True)\n",
        "sns.heatmap(corr, annot=True, cmap='coolwarm')\n",
        "plt.show()\n",
        "```\n",
        "\n",
        "This produces a heatmap showing correlation coefficients between numeric columns of the Iris dataset.\n",
        "\n",
        "---\n",
        "\n",
        "### 📌 Summary:\n",
        "\n",
        "Use a **heatmap** when you want a **quick, intuitive overview** of **how values vary** across two dimensions, especially when spotting **relationships** or **anomalies** visually is more effective than using raw numbers.\n",
        "\n"
      ],
      "metadata": {
        "id": "BzV9Mn3QovLi"
      }
    },
    {
      "cell_type": "markdown",
      "source": [
        "8. What does the term “vectorized operation” mean in NumPy?"
      ],
      "metadata": {
        "id": "AKIZYYzTo1PH"
      }
    },
    {
      "cell_type": "markdown",
      "source": [
        "In NumPy, a **vectorized operation** refers to performing operations on entire arrays (or vectors) element-wise without the need for explicit loops in Python.\n",
        "\n",
        "### Key Points:\n",
        "\n",
        "* **Efficient**: Vectorized operations are implemented in low-level C, making them much faster than manual Python loops.\n",
        "* **Concise**: Code using vectorized operations is typically shorter and easier to read.\n",
        "* **Element-wise**: Operations are applied to each element in the array automatically.\n",
        "\n",
        "### Example:\n",
        "\n",
        "```python\n",
        "import numpy as np\n",
        "\n",
        "a = np.array([1, 2, 3])\n",
        "b = np.array([4, 5, 6])\n",
        "\n",
        "# Vectorized addition\n",
        "c = a + b  # Output: array([5, 7, 9])\n",
        "```\n",
        "\n",
        "Instead of writing:\n",
        "\n",
        "```python\n",
        "c = []\n",
        "for i in range(len(a)):\n",
        "    c.append(a[i] + b[i])\n",
        "```\n",
        "\n",
        "\n"
      ],
      "metadata": {
        "id": "90OHha2kyzr7"
      }
    },
    {
      "cell_type": "markdown",
      "source": [
        "9. How does Matplotlib differ from Plotly?"
      ],
      "metadata": {
        "id": "0MVWeb-oy1yL"
      }
    },
    {
      "cell_type": "markdown",
      "source": [
        "**Matplotlib** and **Plotly** are both powerful Python libraries for data visualization, but they differ significantly in style, functionality, and use cases:\n",
        "\n",
        "### 🔹 1. **Interactivity**\n",
        "\n",
        "* **Matplotlib**: Primarily **static** plots (e.g., for reports or publications). Interactivity is limited unless combined with other tools (like `mpl_interactions` or `nbagg` in Jupyter).\n",
        "* **Plotly**: Built for **interactive** plots—users can zoom, hover, and pan by default. Great for dashboards and web apps.\n",
        "\n",
        "### 🔹 2. **Ease of Use**\n",
        "\n",
        "* **Matplotlib**: More **low-level**; gives fine-grained control but can be verbose.\n",
        "* **Plotly**: Higher-level API with more **user-friendly** functions for complex plots.\n",
        "\n",
        "### 🔹 3. **Output and Integration**\n",
        "\n",
        "* **Matplotlib**: Best for generating **static images** (PNG, PDF, etc.). Works well in Jupyter notebooks and for academic publishing.\n",
        "* **Plotly**: Outputs **interactive HTML**—ideal for embedding in web applications or sharing visualizations online.\n",
        "\n",
        "### 🔹 4. **Customization**\n",
        "\n",
        "* **Matplotlib**: Extremely **customizable** through detailed configuration.\n",
        "* **Plotly**: Also customizable, especially for layout and interactivity, though slightly more abstracted.\n",
        "\n",
        "### 🔹 5. **Types of Charts**\n",
        "\n",
        "* **Matplotlib**: Great for basic charts (line, bar, scatter, etc.), but 3D and advanced plots require add-ons.\n",
        "* **Plotly**: Excellent support for a wide range of **advanced and interactive charts** like choropleths, 3D surface plots, and sunbursts.\n",
        "\n",
        "### Summary Table:\n",
        "\n",
        "| Feature        | Matplotlib             | Plotly                |\n",
        "| -------------- | ---------------------- | --------------------- |\n",
        "| Interactivity  | Limited                | High                  |\n",
        "| Plot type      | Static                 | Interactive           |\n",
        "| Learning curve | Moderate to high       | Easier for many cases |\n",
        "| Output formats | PNG, PDF               | HTML, PNG, PDF        |\n",
        "| Customization  | Very detailed          | High, but abstracted  |\n",
        "| Ideal use case | Publications, academia | Web apps, dashboards  |\n",
        "\n"
      ],
      "metadata": {
        "id": "1LIt3oqpy8N7"
      }
    },
    {
      "cell_type": "markdown",
      "source": [
        "10. What is the significance of hierarchical indexing in Pandas?"
      ],
      "metadata": {
        "id": "JUwbTDsBzm5O"
      }
    },
    {
      "cell_type": "markdown",
      "source": [
        "**Hierarchical indexing** (also called **MultiIndexing**) in **Pandas** allows you to have multiple levels of indexes on a single axis (row or column), enabling more complex data structures and easier analysis of high-dimensional data within a 2D `DataFrame`.\n",
        "\n",
        "---\n",
        "\n",
        "### 🔹 Significance of Hierarchical Indexing:\n",
        "\n",
        "1. **Organizes Complex Data**\n",
        "   Lets you represent data with multiple dimensions (like time and location) in a single DataFrame, while still retaining powerful indexing and slicing capabilities.\n",
        "\n",
        "2. **Enhanced Data Grouping and Aggregation**\n",
        "   Makes operations like `groupby`, pivot tables, and aggregation more powerful and intuitive.\n",
        "\n",
        "3. **Efficient Data Slicing**\n",
        "   Allows subsetting data at multiple levels without restructuring the DataFrame.\n",
        "\n",
        "4. **Facilitates Panel Data Handling**\n",
        "   Useful for time series data across different entities (e.g., stock prices for multiple companies over time).\n",
        "\n",
        "---\n",
        "\n",
        "### 🔹 Example:\n",
        "\n",
        "```python\n",
        "import pandas as pd\n",
        "\n",
        "# Create a MultiIndex\n",
        "index = pd.MultiIndex.from_tuples([\n",
        "    ('USA', 'New York'),\n",
        "    ('USA', 'Chicago'),\n",
        "    ('Canada', 'Toronto'),\n",
        "    ('Canada', 'Vancouver')\n",
        "], names=['Country', 'City'])\n",
        "\n",
        "data = pd.DataFrame({'Population': [8_000_000, 2_700_000, 2_900_000, 630_000]}, index=index)\n",
        "\n",
        "print(data)\n",
        "```\n",
        "\n",
        "#### Output:\n",
        "\n",
        "```\n",
        "                 Population\n",
        "Country City               \n",
        "USA     New York     8000000\n",
        "        Chicago      2700000\n",
        "Canada  Toronto      2900000\n",
        "        Vancouver     630000\n",
        "```\n",
        "\n",
        "Now you can easily access data like:\n",
        "\n",
        "```python\n",
        "data.loc['USA']\n",
        "```\n",
        "\n",
        "---\n",
        "\n",
        "### 🔹 Summary:\n",
        "\n",
        "Hierarchical indexing brings structure and flexibility, especially when dealing with multidimensional datasets in a 2D format. It’s key for tidy, powerful data manipulation in complex real-world scenarios.\n",
        "\n"
      ],
      "metadata": {
        "id": "0T2EXi7Fz18O"
      }
    },
    {
      "cell_type": "markdown",
      "source": [
        "11. What is the role of Seaborn’s pairplot() function?"
      ],
      "metadata": {
        "id": "y9adaMyHz5GX"
      }
    },
    {
      "cell_type": "markdown",
      "source": [
        "The `pairplot()` function in **Seaborn** is used to create a matrix of scatter plots (and histograms or KDEs on the diagonal) that visualizes **pairwise relationships** between numeric variables in a dataset.\n",
        "\n",
        "---\n",
        "\n",
        "### 🔹 **Role and Purpose of `pairplot()`**\n",
        "\n",
        "1. **Exploratory Data Analysis (EDA)**\n",
        "   Helps quickly identify relationships, correlations, or patterns between multiple numeric features.\n",
        "\n",
        "2. **Visualizing Distributions**\n",
        "   Shows univariate distributions on the diagonal and bivariate relationships off-diagonal.\n",
        "\n",
        "3. **Class/Group Differentiation**\n",
        "   With the `hue` parameter, it can show how relationships vary by category (e.g., species, gender).\n",
        "\n",
        "---\n",
        "\n",
        "### 🔹 **Example:**\n",
        "\n",
        "```python\n",
        "import seaborn as sns\n",
        "import matplotlib.pyplot as plt\n",
        "\n",
        "# Load a sample dataset\n",
        "df = sns.load_dataset('iris')\n",
        "\n",
        "# Create a pairplot\n",
        "sns.pairplot(df, hue='species')\n",
        "plt.show()\n",
        "```\n",
        "\n",
        "This will plot scatterplots between all combinations of numerical columns in the Iris dataset, colored by species.\n",
        "\n",
        "---\n",
        "\n",
        "### 🔹 **Key Parameters:**\n",
        "\n",
        "* `data`: DataFrame containing the data.\n",
        "* `hue`: Categorical variable to separate data by color.\n",
        "* `kind`: Type of plot (`'scatter'` or `'kde'`).\n",
        "* `diag_kind`: Type of plot on the diagonal (`'auto'`, `'hist'`, `'kde'`).\n",
        "\n",
        "---\n",
        "\n",
        "### 🔹 Summary:\n",
        "\n",
        "Seaborn’s `pairplot()` is a quick and powerful tool for **visualizing multidimensional relationships**, making it a go-to for initial data exploration.\n",
        "\n"
      ],
      "metadata": {
        "id": "7PTzA-7g0AiD"
      }
    },
    {
      "cell_type": "markdown",
      "source": [
        "12. What is the purpose of the describe() function in Pandas?"
      ],
      "metadata": {
        "id": "89WEB6TM0ISf"
      }
    },
    {
      "cell_type": "markdown",
      "source": [
        "The `describe()` function in **Pandas** is used to generate **summary statistics** of a DataFrame or Series, providing a quick overview of the **central tendency, dispersion, and shape** of a dataset's distribution.\n",
        "\n",
        "---\n",
        "\n",
        "### 🔹 **Purpose of `describe()`**\n",
        "\n",
        "1. **Quick Summary**\n",
        "   Gives essential descriptive statistics like **count, mean, standard deviation**, and **percentiles** for each numeric column.\n",
        "\n",
        "2. **Data Understanding**\n",
        "   Helps identify missing data, outliers, or skewed distributions during **exploratory data analysis (EDA)**.\n",
        "\n",
        "3. **Works on Numeric and Categorical Data**\n",
        "\n",
        "   * By default, it describes **numeric** columns.\n",
        "   * You can include **object/categorical** columns with `include='object'` or `include='all'`.\n",
        "\n",
        "---\n",
        "\n",
        "### 🔹 **Example:**\n",
        "\n",
        "```python\n",
        "import pandas as pd\n",
        "\n",
        "df = pd.DataFrame({\n",
        "    'age': [25, 30, 35, 40, 45],\n",
        "    'salary': [40000, 50000, 60000, 70000, 80000]\n",
        "})\n",
        "\n",
        "print(df.describe())\n",
        "```\n",
        "\n",
        "#### Output:\n",
        "\n",
        "```\n",
        "             age        salary\n",
        "count   5.000000      5.000000\n",
        "mean   35.000000  60000.000000\n",
        "std     7.905694  15811.388301\n",
        "min    25.000000  40000.000000\n",
        "25%    30.000000  50000.000000\n",
        "50%    35.000000  60000.000000\n",
        "75%    40.000000  70000.000000\n",
        "max    45.000000  80000.000000\n",
        "```\n",
        "\n",
        "---\n",
        "\n",
        "### 🔹 **Custom Usage:**\n",
        "\n",
        "```python\n",
        "df.describe(include='all')  # Includes non-numeric columns too\n",
        "df['age'].describe()        # Describes a single column\n",
        "```\n",
        "\n",
        "---\n",
        "\n",
        "### 🔹 Summary:\n",
        "\n",
        "`describe()` is a **foundational EDA tool** that helps you understand your dataset's basic statistical properties with just one line of code.\n",
        "\n",
        "\n"
      ],
      "metadata": {
        "id": "yvbl8LOd0P5W"
      }
    },
    {
      "cell_type": "markdown",
      "source": [
        "13. Why is handling missing data important in Pandas?"
      ],
      "metadata": {
        "id": "vGrL6VMD0tpc"
      }
    },
    {
      "cell_type": "markdown",
      "source": [
        "Handling **missing data** in Pandas is critically important because it directly affects the **accuracy, integrity, and usability** of your data analysis and machine learning models.\n",
        "\n",
        "---\n",
        "\n",
        "### 🔹 Why Handling Missing Data Matters:\n",
        "\n",
        "1. **Prevents Errors in Analysis**\n",
        "   Many Pandas operations (e.g., mean, sum) and machine learning algorithms can't handle `NaN` values and may crash or give misleading results.\n",
        "\n",
        "2. **Ensures Data Integrity**\n",
        "   Missing values can bias your analysis if not treated carefully—for example, when calculating averages or correlations.\n",
        "\n",
        "3. **Improves Model Performance**\n",
        "   Machine learning models often require complete datasets. Unhandled missing values can lead to poor predictions or the model refusing to train.\n",
        "\n",
        "4. **Reveals Underlying Issues**\n",
        "   Patterns of missing data can indicate data collection problems, system errors, or hidden structure in the data.\n",
        "\n",
        "5. **Supports Better Decision-Making**\n",
        "   Clean, complete data allows for more reliable insights and informed decisions.\n",
        "\n",
        "---\n",
        "\n",
        "### 🔹 Common Techniques to Handle Missing Data:\n",
        "\n",
        "| Method                 | Use Case                                        |\n",
        "| ---------------------- | ----------------------------------------------- |\n",
        "| `dropna()`             | Remove rows/columns with missing data           |\n",
        "| `fillna(value)`        | Fill missing values with a constant or strategy |\n",
        "| `interpolate()`        | Estimate values based on neighboring data       |\n",
        "| Conditional Imputation | Fill based on logic or grouped statistics       |\n",
        "\n",
        "---\n",
        "\n",
        "### 🔹 Example:\n",
        "\n",
        "```python\n",
        "import pandas as pd\n",
        "df = pd.DataFrame({'A': [1, None, 3], 'B': [4, 5, None]})\n",
        "\n",
        "# Check for missing data\n",
        "df.isnull()\n",
        "\n",
        "# Fill missing values with the column mean\n",
        "df.fillna(df.mean(numeric_only=True))\n",
        "```\n",
        "\n",
        "---\n",
        "\n",
        "### 🔹 Summary:\n",
        "\n",
        "Handling missing data in Pandas is essential for ensuring **reliable, valid, and usable** results in any data-driven project.\n",
        "\n"
      ],
      "metadata": {
        "id": "KUf8QuzB07YJ"
      }
    },
    {
      "cell_type": "markdown",
      "source": [
        "14. What are the benefits of using Plotly for data visualization?"
      ],
      "metadata": {
        "id": "vPTBhF3E0-kV"
      }
    },
    {
      "cell_type": "markdown",
      "source": [
        "The **benefits of using Plotly** for data visualization include its powerful interactivity, ease of use, and flexibility, making it a top choice for both exploratory analysis and presentation-ready visuals. Here’s a detailed look:\n",
        "\n",
        "---\n",
        "\n",
        "### 🔹 1. **Built-in Interactivity**\n",
        "\n",
        "* Plotly charts support zooming, panning, hovering, and dynamic legends by default.\n",
        "* Enables deeper **exploratory data analysis (EDA)** with minimal effort.\n",
        "\n",
        "### 🔹 2. **High-Quality, Web-Ready Visuals**\n",
        "\n",
        "* Produces sleek, responsive, and professional-looking plots.\n",
        "* Charts can be exported as **interactive HTML** or **static images (PNG, SVG, etc.)**.\n",
        "\n",
        "### 🔹 3. **Wide Range of Chart Types**\n",
        "\n",
        "* Supports:\n",
        "\n",
        "  * Basic plots: line, bar, scatter, pie\n",
        "  * Statistical plots: box, violin, histogram\n",
        "  * Advanced visuals: 3D plots, choropleths, Sankey diagrams, sunbursts, heatmaps\n",
        "\n",
        "### 🔹 4. **Dash Integration for Web Apps**\n",
        "\n",
        "* Seamless integration with **Dash**, Plotly’s framework for creating full **data apps** without needing JavaScript or front-end code.\n",
        "\n",
        "### 🔹 5. **Cross-Platform and Language Support**\n",
        "\n",
        "* Available in **Python**, **R**, **JavaScript**, and **Julia**—useful for teams working across tech stacks.\n",
        "\n",
        "### 🔹 6. **Customizable and Themeable**\n",
        "\n",
        "* Layouts, tooltips, colors, and axes are **highly customizable**.\n",
        "* Offers built-in themes and full control over plot appearance.\n",
        "\n",
        "### 🔹 7. **Easy Sharing and Collaboration**\n",
        "\n",
        "* Share interactive visualizations through:\n",
        "\n",
        "  * HTML files\n",
        "  * Jupyter notebooks\n",
        "  * Dash apps\n",
        "  * Online platforms (like Plotly Cloud or Dash Enterprise)\n",
        "\n",
        "---\n",
        "\n",
        "### ✅ Summary:\n",
        "\n",
        "| Benefit                | Description                                         |\n",
        "| ---------------------- | --------------------------------------------------- |\n",
        "| Interactivity          | Built-in hover, zoom, filter without extra code     |\n",
        "| Professional visuals   | High-resolution, responsive, and presentation-ready |\n",
        "| Chart variety          | Basic to advanced 2D and 3D plots                   |\n",
        "| Web app integration    | Easy integration with Dash for full dashboards      |\n",
        "| Multi-language support | Use in Python, R, JS, and Julia                     |\n",
        "| Easy sharing           | Export to HTML or embed in notebooks/webpages       |\n",
        "\n",
        "---\n",
        "\n"
      ],
      "metadata": {
        "id": "xSzlemIw1GDJ"
      }
    },
    {
      "cell_type": "markdown",
      "source": [
        "15. How does NumPy handle multidimensional arrays?"
      ],
      "metadata": {
        "id": "TiMsyhfd1aj5"
      }
    },
    {
      "cell_type": "markdown",
      "source": [
        "**NumPy** handles **multidimensional arrays** (called **ndarrays**) with great flexibility and efficiency, making it ideal for scientific computing and data analysis in Python.\n",
        "\n",
        "---\n",
        "\n",
        "### 🔹 Key Features of NumPy’s Multidimensional Array Handling:\n",
        "\n",
        "#### 1. **n-Dimensional Arrays (ndarray)**\n",
        "\n",
        "* NumPy's `ndarray` can represent arrays of **any number of dimensions** (1D, 2D, 3D, etc.).\n",
        "* Example of creation:\n",
        "\n",
        "  ```python\n",
        "  import numpy as np\n",
        "  a = np.array([[1, 2], [3, 4]])  # 2D array (matrix)\n",
        "  b = np.array([[[1], [2]], [[3], [4]]])  # 3D array\n",
        "  ```\n",
        "\n",
        "#### 2. **Shape and Dimensions**\n",
        "\n",
        "* Use `.shape` to get the dimensions (rows, columns, etc.).\n",
        "* Use `.ndim` to get the number of dimensions.\n",
        "\n",
        "  ```python\n",
        "  a.shape  # (2, 2)\n",
        "  a.ndim   # 2\n",
        "  ```\n",
        "\n",
        "#### 3. **Broadcasting**\n",
        "\n",
        "* Allows arithmetic operations between arrays of different shapes (e.g., 2D + 1D) by automatically expanding dimensions where possible.\n",
        "\n",
        "#### 4. **Indexing and Slicing**\n",
        "\n",
        "* Multidimensional arrays support advanced indexing and slicing:\n",
        "\n",
        "  ```python\n",
        "  a[1, 0]      # Access element at row 1, column 0\n",
        "  a[:, 1]      # Get all rows from column 1\n",
        "  ```\n",
        "\n",
        "#### 5. **Reshaping and Transposing**\n",
        "\n",
        "* Use `.reshape()` to change the shape without changing the data.\n",
        "* Use `.T` or `.transpose()` to change axes.\n",
        "\n",
        "  ```python\n",
        "  a.reshape(4, 1)\n",
        "  a.T\n",
        "  ```\n",
        "\n",
        "#### 6. **Axis-Based Operations**\n",
        "\n",
        "* NumPy functions like `sum()`, `mean()`, etc., can operate along specific axes:\n",
        "\n",
        "  ```python\n",
        "  a.sum(axis=0)  # Sum over rows (column-wise)\n",
        "  a.sum(axis=1)  # Sum over columns (row-wise)\n",
        "  ```\n",
        "\n",
        "---\n",
        "\n",
        "### 🔹 Summary:\n",
        "\n",
        "NumPy provides powerful tools for creating, manipulating, and performing operations on **multidimensional arrays**, making it foundational for data science, machine learning, and numerical computing.\n",
        "\n"
      ],
      "metadata": {
        "id": "kPOXmVe_1pM0"
      }
    },
    {
      "cell_type": "markdown",
      "source": [
        "16. What is the role of Bokeh in data visualization?"
      ],
      "metadata": {
        "id": "NNwNOyXq1xYY"
      }
    },
    {
      "cell_type": "markdown",
      "source": [
        "**Bokeh** is a powerful Python library for **interactive and web-ready data visualization**. Its primary role is to help users create **rich, interactive plots and dashboards** that can be **rendered in modern web browsers**, making it ideal for data exploration and presentation.\n",
        "\n",
        "---\n",
        "\n",
        "### 🔹 **Role and Benefits of Bokeh in Data Visualization**\n",
        "\n",
        "#### 1. **Interactive Visualizations**\n",
        "\n",
        "* Provides interactive features like **zoom, pan, hover tooltips, sliders**, and **widgets**.\n",
        "* Enables deeper data exploration directly in the browser.\n",
        "\n",
        "#### 2. **Web Integration**\n",
        "\n",
        "* Bokeh plots render as **HTML/JavaScript**, making them suitable for embedding in web applications, reports, or dashboards.\n",
        "* Can integrate with Flask, Django, and Jupyter Notebooks.\n",
        "\n",
        "#### 3. **Custom Dashboards**\n",
        "\n",
        "* Allows building interactive **data apps** with controls (like dropdowns or checkboxes) using **Bokeh Server**.\n",
        "\n",
        "#### 4. **High-Performance for Large Datasets**\n",
        "\n",
        "* Efficiently handles large and streaming datasets using **WebGL** rendering and downsampling.\n",
        "\n",
        "#### 5. **Pythonic API**\n",
        "\n",
        "* Offers a clean, intuitive, object-oriented API in Python, making it easy for developers and analysts to adopt.\n",
        "\n",
        "---\n",
        "\n",
        "### 🔹 **Example Use Cases**\n",
        "\n",
        "* Real-time data dashboards\n",
        "* Financial data visualization\n",
        "* Interactive reports for stakeholders\n",
        "* Scientific data exploration\n",
        "\n",
        "---\n",
        "\n",
        "### 🔹 **Comparison with Other Tools**\n",
        "\n",
        "| Feature           | Bokeh               | Matplotlib    | Plotly        |\n",
        "| ----------------- | ------------------- | ------------- | ------------- |\n",
        "| Interactivity     | ✅ Built-in          | 🚫 Limited    | ✅ Built-in    |\n",
        "| Web Integration   | ✅ Native HTML/JS    | 🚫 Not native | ✅ HTML, Dash  |\n",
        "| Dashboard Support | ✅ With Bokeh Server | 🚫            | ✅ With Dash   |\n",
        "| Ease of Use       | 👍 Medium           | 👍 Simple     | 👍 High-level |\n",
        "\n",
        "---\n",
        "\n",
        "### ✅ **In Summary:**\n",
        "\n",
        "**Bokeh** is best used when you need **interactive, web-based visualizations** that are easy to build with Python and can be integrated into dashboards or applications.\n",
        "\n"
      ],
      "metadata": {
        "id": "gYczzlmU1-nn"
      }
    },
    {
      "cell_type": "markdown",
      "source": [
        "17. Explain the difference between apply() and map() in Pandas."
      ],
      "metadata": {
        "id": "d5BXZpQY2BRE"
      }
    },
    {
      "cell_type": "markdown",
      "source": [
        "Great question! Both `apply()` and `map()` in **Pandas** are used to **apply functions** to data, but they differ in **where** and **how** they are typically used.\n",
        "\n",
        "---\n",
        "\n",
        "### 🔹 **`map()`**\n",
        "\n",
        "* **Used with:** Primarily on **Series**.\n",
        "* **Purpose:** Map **values in a Series** according to an input correspondence (like a dict, Series, or function).\n",
        "* **Returns:** A new Series with mapped values.\n",
        "* **Common use cases:**\n",
        "\n",
        "  * Replacing values using a dictionary.\n",
        "  * Applying a simple function element-wise.\n",
        "* **Example:**\n",
        "\n",
        "  ```python\n",
        "  s = pd.Series(['cat', 'dog', 'bird'])\n",
        "  s.map({'cat': 'kitten', 'dog': 'puppy'})\n",
        "  # Output: ['kitten', 'puppy', NaN]\n",
        "  ```\n",
        "\n",
        "---\n",
        "\n",
        "### 🔹 **`apply()`**\n",
        "\n",
        "* **Used with:** Both **Series** and **DataFrames**.\n",
        "* **Purpose:** Apply a function along an axis (rows or columns) of a DataFrame, or element-wise on a Series.\n",
        "* **Returns:** Depends on the function — can be a scalar, Series, or DataFrame.\n",
        "* **Common use cases:**\n",
        "\n",
        "  * Complex row/column-wise operations on DataFrames.\n",
        "  * Applying functions that need access to full rows or columns.\n",
        "* **Example:**\n",
        "\n",
        "  ```python\n",
        "  df = pd.DataFrame({\n",
        "      'A': [1, 2, 3],\n",
        "      'B': [4, 5, 6]\n",
        "  })\n",
        "  df.apply(lambda row: row['A'] + row['B'], axis=1)\n",
        "  # Output: Series([5, 7, 9])\n",
        "  ```\n",
        "\n",
        "---\n",
        "\n",
        "### 🔹 **Summary Table**\n",
        "\n",
        "| Feature  | `map()`                              | `apply()`                                 |\n",
        "| -------- | ------------------------------------ | ----------------------------------------- |\n",
        "| Works on | Series only                          | Series and DataFrames                     |\n",
        "| Purpose  | Element-wise mapping/replacement     | Apply function along axis or element-wise |\n",
        "| Input    | Dict, Series, function               | Function                                  |\n",
        "| Use case | Value substitution or transformation | Complex row/column-wise computations      |\n",
        "| Returns  | Series                               | Varies (scalar, Series, DataFrame)        |\n",
        "\n",
        "---\n"
      ],
      "metadata": {
        "id": "yPCxJ6l22PRf"
      }
    },
    {
      "cell_type": "markdown",
      "source": [
        "18. What are some advanced features of NumPy?"
      ],
      "metadata": {
        "id": "5TvT4hFJ2Ri-"
      }
    },
    {
      "cell_type": "markdown",
      "source": [
        "Here are some **advanced features of NumPy** that go beyond basic array creation and arithmetic, making it a powerful tool for scientific computing and data analysis:\n",
        "\n",
        "---\n",
        "\n",
        "### 🔹 1. **Broadcasting**\n",
        "\n",
        "* Enables arithmetic operations on arrays of different shapes by automatically expanding the smaller array along missing dimensions.\n",
        "* Allows writing concise and efficient code without explicit loops.\n",
        "\n",
        "### 🔹 2. **Fancy Indexing and Boolean Masking**\n",
        "\n",
        "* Access or modify array elements using arrays of indices or boolean conditions.\n",
        "* Useful for filtering, selecting, or updating subsets of data efficiently.\n",
        "\n",
        "### 🔹 3. **Structured Arrays and Record Arrays**\n",
        "\n",
        "* Store heterogeneous data (like tables) with named fields.\n",
        "* Useful for handling complex datasets with multiple data types.\n",
        "\n",
        "### 🔹 4. **Memory Mapping (np.memmap)**\n",
        "\n",
        "* Access large datasets stored on disk as if they were in memory, without loading the entire file.\n",
        "* Enables working with datasets larger than your RAM.\n",
        "\n",
        "### 🔹 5. **Universal Functions (ufuncs)**\n",
        "\n",
        "* Vectorized functions that operate element-wise on arrays with optimized C implementation.\n",
        "* Includes advanced ufuncs like `np.add.reduce()`, `np.multiply.accumulate()`, etc.\n",
        "\n",
        "### 🔹 6. **Linear Algebra Module (`numpy.linalg`)**\n",
        "\n",
        "* Provides functions for matrix operations, eigenvalues, singular value decomposition (SVD), solving linear systems, and more.\n",
        "\n",
        "### 🔹 7. **Random Sampling (`numpy.random`)**\n",
        "\n",
        "* Powerful suite for generating random numbers, random sampling, and probabilistic distributions.\n",
        "\n",
        "### 🔹 8. **FFT (Fast Fourier Transform)**\n",
        "\n",
        "* Perform fast Fourier transforms for signal processing tasks.\n",
        "\n",
        "### 🔹 9. **Advanced Broadcasting with `np.newaxis` and `np.expand_dims`**\n",
        "\n",
        "* Manipulate array dimensions to enable broadcasting in complex operations.\n",
        "\n",
        "### 🔹 10. **Masked Arrays (`numpy.ma`)**\n",
        "\n",
        "* Handle arrays with missing or invalid entries by masking elements rather than removing them.\n",
        "\n",
        "---\n",
        "\n"
      ],
      "metadata": {
        "id": "U8b9fnTh2mjb"
      }
    },
    {
      "cell_type": "markdown",
      "source": [
        "19. How does Pandas simplify time series analysis?"
      ],
      "metadata": {
        "id": "3Nd-LGIs2o4Q"
      }
    },
    {
      "cell_type": "markdown",
      "source": [
        "Pandas simplifies **time series analysis** by providing powerful, intuitive tools and data structures tailored specifically for handling date and time data. Here’s how:\n",
        "\n",
        "---\n",
        "\n",
        "### 🔹 Key Ways Pandas Simplifies Time Series Analysis:\n",
        "\n",
        "#### 1. **Datetime Indexing**\n",
        "\n",
        "* You can easily convert columns to `DatetimeIndex`, allowing you to **index, slice, and filter** data based on dates and times.\n",
        "* Example:\n",
        "\n",
        "  ```python\n",
        "  df['date'] = pd.to_datetime(df['date'])\n",
        "  df.set_index('date', inplace=True)\n",
        "  df['2023-01-01':'2023-01-31']  # Slicing by date range\n",
        "  ```\n",
        "\n",
        "#### 2. **Resampling and Frequency Conversion**\n",
        "\n",
        "* Easily resample data to different frequencies (daily, monthly, yearly) using `.resample()`.\n",
        "* Aggregations like sum, mean, or custom functions can be applied during resampling.\n",
        "\n",
        "  ```python\n",
        "  df.resample('M').mean()  # Monthly average\n",
        "  ```\n",
        "\n",
        "#### 3. **Handling Missing Dates**\n",
        "\n",
        "* Automatically handles missing dates and missing data in time series.\n",
        "* You can fill gaps with interpolation, forward-fill, or backfill.\n",
        "\n",
        "#### 4. **Date Offsets and Shifting**\n",
        "\n",
        "* Shift data forward or backward in time with `.shift()`.\n",
        "* Generate date ranges with `pd.date_range()`.\n",
        "* Perform time-based arithmetic easily.\n",
        "\n",
        "#### 5. **Rolling Window Calculations**\n",
        "\n",
        "* Calculate moving averages, rolling sums, and other window functions using `.rolling()`.\n",
        "\n",
        "  ```python\n",
        "  df['rolling_mean'] = df['value'].rolling(window=7).mean()  # 7-day moving average\n",
        "  ```\n",
        "\n",
        "#### 6. **Time Zone Handling**\n",
        "\n",
        "* Convert time series data between time zones with `.tz_localize()` and `.tz_convert()`.\n",
        "\n",
        "#### 7. **Powerful Time-based Grouping**\n",
        "\n",
        "* Group data by time periods using `.groupby()` with time-based keys.\n",
        "\n",
        "---\n",
        "\n",
        "### 🔹 Summary:\n",
        "\n",
        "Pandas offers a comprehensive toolkit for **cleaning, manipulating, aggregating, and analyzing** time series data with simple syntax, making it a go-to library for time-dependent datasets.\n",
        "\n"
      ],
      "metadata": {
        "id": "-b-OFn8F237e"
      }
    },
    {
      "cell_type": "markdown",
      "source": [
        "20. What is the role of a pivot table in Pandas?"
      ],
      "metadata": {
        "id": "4aTBUUSb265O"
      }
    },
    {
      "cell_type": "markdown",
      "source": [
        "A **pivot table** in Pandas is a powerful tool used to **summarize, aggregate, and reshape data**—especially useful for exploratory data analysis and generating reports.\n",
        "\n",
        "---\n",
        "\n",
        "### 🔹 Role of a Pivot Table in Pandas:\n",
        "\n",
        "1. **Data Summarization**\n",
        "   It helps **aggregate data** based on one or more categorical variables (like grouping by columns and rows) using aggregation functions such as sum, mean, count, etc.\n",
        "\n",
        "2. **Reshaping Data**\n",
        "   Transforms data from a **long format** to a **wide format**, making it easier to analyze relationships between variables.\n",
        "\n",
        "3. **Multi-level Grouping**\n",
        "   Supports grouping by multiple indices (rows and columns), enabling complex summaries and comparisons.\n",
        "\n",
        "4. **Handling Missing Data**\n",
        "   Automatically fills missing combinations with NaN or specified fill values.\n",
        "\n",
        "---\n",
        "\n",
        "### 🔹 Example:\n",
        "\n",
        "```python\n",
        "import pandas as pd\n",
        "\n",
        "data = {\n",
        "    'Region': ['East', 'East', 'West', 'West', 'East'],\n",
        "    'Product': ['A', 'B', 'A', 'B', 'A'],\n",
        "    'Sales': [100, 150, 200, 250, 300]\n",
        "}\n",
        "\n",
        "df = pd.DataFrame(data)\n",
        "\n",
        "pivot = df.pivot_table(index='Region', columns='Product', values='Sales', aggfunc='sum')\n",
        "print(pivot)\n",
        "```\n",
        "\n",
        "#### Output:\n",
        "\n",
        "```\n",
        "Product      A      B\n",
        "Region               \n",
        "East      400.0  150.0\n",
        "West      200.0  250.0\n",
        "```\n",
        "\n",
        "---\n",
        "\n",
        "### 🔹 Summary:\n",
        "\n",
        "Pivot tables in Pandas let you **quickly summarize** large datasets, revealing insights by **aggregating and restructuring** data along multiple dimensions.\n",
        "\n"
      ],
      "metadata": {
        "id": "dwdX9xMm3pou"
      }
    },
    {
      "cell_type": "markdown",
      "source": [
        "21. Why is NumPy’s array slicing faster than Python’s list slicing?"
      ],
      "metadata": {
        "id": "gv9PC_qQ3rWI"
      }
    },
    {
      "cell_type": "markdown",
      "source": [
        "NumPy’s array slicing is faster than Python’s list slicing mainly because of how data is stored and accessed under the hood:\n",
        "\n",
        "---\n",
        "\n",
        "### 🔹 Reasons Why NumPy Array Slicing is Faster:\n",
        "\n",
        "1. **Contiguous Memory Storage**\n",
        "\n",
        "* NumPy arrays store data in a **contiguous block of memory** (like C arrays), allowing efficient access and manipulation.\n",
        "* Python lists are arrays of **pointers to objects scattered in memory**, requiring extra dereferencing.\n",
        "\n",
        "2. **Homogeneous Data Types**\n",
        "\n",
        "* NumPy arrays have a fixed, uniform data type (e.g., all floats or all ints), enabling **optimized low-level operations**.\n",
        "* Python lists can hold objects of different types, adding overhead to access and operations.\n",
        "\n",
        "3. **View vs. Copy**\n",
        "\n",
        "* NumPy slicing typically returns a **view** (a window into the same data), so no new data is copied.\n",
        "* Python list slicing always creates a **new list copy**, which takes extra time and memory.\n",
        "\n",
        "4. **Vectorized Operations**\n",
        "\n",
        "* NumPy uses **highly optimized C/Fortran code** for operations on arrays, speeding up slicing and computations.\n",
        "* Python lists rely on slower, interpreted Python loops.\n",
        "\n",
        "---\n",
        "\n",
        "### 🔹 Summary:\n",
        "\n",
        "| Feature          | NumPy Array                    | Python List                      |\n",
        "| ---------------- | ------------------------------ | -------------------------------- |\n",
        "| Memory Layout    | Contiguous, homogeneous        | Array of pointers, heterogeneous |\n",
        "| Slicing Behavior | Returns view (no data copy)    | Returns new list (copy of data)  |\n",
        "| Performance      | Fast, optimized low-level code | Slower, Python-level operations  |\n",
        "\n",
        "---\n",
        "\n",
        "\n"
      ],
      "metadata": {
        "id": "dyF9qzrK4B5l"
      }
    },
    {
      "cell_type": "markdown",
      "source": [
        "22. What are some common use cases for Seaborn?"
      ],
      "metadata": {
        "id": "UcQn9SaL4EG5"
      }
    },
    {
      "cell_type": "markdown",
      "source": [
        "Seaborn is a popular Python visualization library built on top of Matplotlib that simplifies creating attractive and informative statistical graphics. Here are some common use cases for Seaborn:\n",
        "\n",
        "---\n",
        "\n",
        "### 🔹 Common Use Cases for Seaborn\n",
        "\n",
        "1. **Exploratory Data Analysis (EDA)**\n",
        "\n",
        "   * Quickly visualize distributions, relationships, and trends in data.\n",
        "   * Functions like `pairplot()`, `distplot()`, and `heatmap()` help uncover patterns and outliers.\n",
        "\n",
        "2. **Statistical Visualizations**\n",
        "\n",
        "   * Plot statistical relationships with regression lines (`lmplot()`), box plots (`boxplot()`), violin plots (`violinplot()`), and swarm plots (`swarmplot()`).\n",
        "\n",
        "3. **Visualizing Categorical Data**\n",
        "\n",
        "   * Easily create bar plots, count plots, and point plots that compare categories and show confidence intervals.\n",
        "\n",
        "4. **Correlation Analysis**\n",
        "\n",
        "   * Use `heatmap()` with correlation matrices to visualize the strength and direction of relationships between variables.\n",
        "\n",
        "5. **Time Series Visualization**\n",
        "\n",
        "   * Use line plots with confidence intervals to analyze trends over time.\n",
        "\n",
        "6. **Multi-Variable Plots**\n",
        "\n",
        "   * Facet grids (`FacetGrid`) and categorical plots allow visualization across multiple subsets or categories.\n",
        "\n",
        "---\n",
        "\n",
        "### 🔹 Summary Table:\n",
        "\n",
        "| Use Case                         | Seaborn Functions                         |\n",
        "| -------------------------------- | ----------------------------------------- |\n",
        "| Distribution of single variables | `distplot()`, `histplot()`, `kdeplot()`   |\n",
        "| Relationship between variables   | `scatterplot()`, `pairplot()`, `lmplot()` |\n",
        "| Categorical comparisons          | `barplot()`, `countplot()`, `boxplot()`   |\n",
        "| Correlation visualization        | `heatmap()`                               |\n",
        "| Multi-plot layouts               | `FacetGrid`, `catplot()`                  |\n",
        "\n",
        "---\n",
        "\n"
      ],
      "metadata": {
        "id": "Rh44kvmY4JMr"
      }
    },
    {
      "cell_type": "markdown",
      "source": [
        "# **Practical**"
      ],
      "metadata": {
        "id": "0S0kf1nS4UTD"
      }
    },
    {
      "cell_type": "markdown",
      "source": [
        "1. How do you create a 2D NumPy array and calculate the sum of each row?"
      ],
      "metadata": {
        "id": "RjBVjik74aoR"
      }
    },
    {
      "cell_type": "markdown",
      "source": [
        "You can create a 2D NumPy array using `np.array()` and then calculate the sum of each row using the `.sum()` method with `axis=1`. Here’s how:\n",
        "\n",
        "```python\n",
        "import numpy as np\n",
        "\n",
        "# Create a 2D NumPy array\n",
        "arr = np.array([[1, 2, 3],\n",
        "                [4, 5, 6],\n",
        "                [7, 8, 9]])\n",
        "\n",
        "# Calculate the sum of each row\n",
        "row_sums = arr.sum(axis=1)\n",
        "\n",
        "print(row_sums)\n",
        "```\n",
        "\n",
        "**Output:**\n",
        "\n",
        "```\n",
        "[ 6 15 24]\n",
        "```\n",
        "\n",
        "* `axis=1` means summing across columns for each row.\n",
        "\n"
      ],
      "metadata": {
        "id": "exeE12r04nan"
      }
    },
    {
      "cell_type": "markdown",
      "source": [
        "2. Write a Pandas script to find the mean of a specific column in a DataFrame."
      ],
      "metadata": {
        "id": "uUqyM2uG4pez"
      }
    },
    {
      "cell_type": "markdown",
      "source": [
        "Sure! Here’s a simple Pandas script to find the mean of a specific column in a DataFrame:\n",
        "\n",
        "```python\n",
        "import pandas as pd\n",
        "\n",
        "# Sample DataFrame\n",
        "data = {\n",
        "    'A': [10, 20, 30, 40],\n",
        "    'B': [5, 15, 25, 35]\n",
        "}\n",
        "\n",
        "df = pd.DataFrame(data)\n",
        "\n",
        "# Calculate the mean of column 'A'\n",
        "mean_A = df['A'].mean()\n",
        "\n",
        "print(\"Mean of column A:\", mean_A)\n",
        "```\n",
        "\n",
        "This will output:\n",
        "\n",
        "```\n",
        "Mean of column A: 25.0\n",
        "```\n",
        "\n"
      ],
      "metadata": {
        "id": "1ykLN5mC5LB-"
      }
    },
    {
      "cell_type": "markdown",
      "source": [
        "3. Create a scatter plot using Matplotlib."
      ],
      "metadata": {
        "id": "jrrcfFbS5ter"
      }
    },
    {
      "cell_type": "markdown",
      "source": [
        "Here’s a simple example of creating a scatter plot using Matplotlib:\n",
        "\n",
        "```python\n",
        "import matplotlib.pyplot as plt\n",
        "\n",
        "# Sample data\n",
        "x = [1, 2, 3, 4, 5]\n",
        "y = [5, 7, 4, 6, 8]\n",
        "\n",
        "# Create scatter plot\n",
        "plt.scatter(x, y, color='blue', marker='o')\n",
        "\n",
        "# Add title and labels\n",
        "plt.title('Sample Scatter Plot')\n",
        "plt.xlabel('X-axis')\n",
        "plt.ylabel('Y-axis')\n",
        "\n",
        "# Show plot\n",
        "plt.show()\n",
        "```\n",
        "\n"
      ],
      "metadata": {
        "id": "fHt_Pgsz5y7O"
      }
    },
    {
      "cell_type": "markdown",
      "source": [
        "4.  How do you calculate the correlation matrix using Seaborn and visualize it with a heatmap?"
      ],
      "metadata": {
        "id": "xov7m-aD55_f"
      }
    },
    {
      "cell_type": "markdown",
      "source": [
        "To calculate the correlation matrix and visualize it using Seaborn’s heatmap, you can follow these steps:\n",
        "\n",
        "```python\n",
        "import pandas as pd\n",
        "import seaborn as sns\n",
        "import matplotlib.pyplot as plt\n",
        "\n",
        "# Sample DataFrame\n",
        "data = {\n",
        "    'A': [1, 2, 3, 4, 5],\n",
        "    'B': [5, 4, 3, 2, 1],\n",
        "    'C': [2, 3, 4, 5, 6]\n",
        "}\n",
        "\n",
        "df = pd.DataFrame(data)\n",
        "\n",
        "# Calculate correlation matrix\n",
        "corr_matrix = df.corr()\n",
        "\n",
        "# Visualize correlation matrix using Seaborn heatmap\n",
        "sns.heatmap(corr_matrix, annot=True, cmap='coolwarm')\n",
        "\n",
        "# Add title\n",
        "plt.title('Correlation Matrix Heatmap')\n",
        "\n",
        "# Show plot\n",
        "plt.show()\n",
        "```\n",
        "\n",
        "* `.corr()` computes the correlation matrix.\n",
        "* `sns.heatmap()` visualizes it with colors; `annot=True` shows correlation coefficients on the heatmap.\n",
        "\n"
      ],
      "metadata": {
        "id": "YOAQdp1S5_5_"
      }
    },
    {
      "cell_type": "markdown",
      "source": [
        "5. Generate a bar plot using Plotly."
      ],
      "metadata": {
        "id": "EILzCgfN6F6Q"
      }
    },
    {
      "cell_type": "markdown",
      "source": [
        "Here’s how you can generate a simple bar plot using Plotly in Python:\n",
        "\n",
        "```python\n",
        "import plotly.graph_objects as go\n",
        "\n",
        "# Sample data\n",
        "categories = ['A', 'B', 'C', 'D']\n",
        "values = [10, 15, 7, 12]\n",
        "\n",
        "# Create bar plot\n",
        "fig = go.Figure(data=[go.Bar(x=categories, y=values)])\n",
        "\n",
        "# Add title and axis labels\n",
        "fig.update_layout(\n",
        "    title='Sample Bar Plot',\n",
        "    xaxis_title='Category',\n",
        "    yaxis_title='Value'\n",
        ")\n",
        "\n",
        "# Show plot\n",
        "fig.show()\n",
        "```\n",
        "\n",
        "This will open an interactive bar chart where you can zoom, hover, and pan.\n"
      ],
      "metadata": {
        "id": "DLiiX7Ul6NSQ"
      }
    },
    {
      "cell_type": "markdown",
      "source": [
        "6.  Create a DataFrame and add a new column based on an existing column."
      ],
      "metadata": {
        "id": "SbLhqMyJ6Snr"
      }
    },
    {
      "cell_type": "markdown",
      "source": [
        "Here’s how you can create a Pandas DataFrame and add a new column based on an existing one:\n",
        "\n",
        "```python\n",
        "import pandas as pd\n",
        "\n",
        "# Create a sample DataFrame\n",
        "data = {\n",
        "    'A': [10, 20, 30, 40],\n",
        "    'B': [1, 2, 3, 4]\n",
        "}\n",
        "df = pd.DataFrame(data)\n",
        "\n",
        "# Add a new column 'C' which is double the values of column 'A'\n",
        "df['C'] = df['A'] * 2\n",
        "\n",
        "print(df)\n",
        "```\n",
        "\n",
        "**Output:**\n",
        "\n",
        "```\n",
        "    A  B   C\n",
        "0  10  1  20\n",
        "1  20  2  40\n",
        "2  30  3  60\n",
        "3  40  4  80\n",
        "```\n"
      ],
      "metadata": {
        "id": "RyFfZz656cxm"
      }
    },
    {
      "cell_type": "markdown",
      "source": [
        "7. Write a program to perform element-wise multiplication of two NumPy arrays."
      ],
      "metadata": {
        "id": "huhjLJ5h6e_T"
      }
    },
    {
      "cell_type": "markdown",
      "source": [
        "Here’s a simple Python program to perform element-wise multiplication of two NumPy arrays:\n",
        "\n",
        "```python\n",
        "import numpy as np\n",
        "\n",
        "# Define two arrays\n",
        "arr1 = np.array([1, 2, 3, 4])\n",
        "arr2 = np.array([5, 6, 7, 8])\n",
        "\n",
        "# Element-wise multiplication\n",
        "result = arr1 * arr2\n",
        "\n",
        "print(result)\n",
        "```\n",
        "\n",
        "**Output:**\n",
        "\n",
        "```\n",
        "[ 5 12 21 32]\n",
        "```\n",
        "\n"
      ],
      "metadata": {
        "id": "x7lmolS36kNX"
      }
    },
    {
      "cell_type": "markdown",
      "source": [
        "8. Create a line plot with multiple lines using Matplotlib."
      ],
      "metadata": {
        "id": "0t0A0xd36u4X"
      }
    },
    {
      "cell_type": "markdown",
      "source": [
        "Here’s how you can create a line plot with multiple lines using Matplotlib:\n",
        "\n",
        "```python\n",
        "import matplotlib.pyplot as plt\n",
        "\n",
        "# Sample data\n",
        "x = [1, 2, 3, 4, 5]\n",
        "y1 = [2, 3, 5, 7, 11]\n",
        "y2 = [1, 4, 6, 8, 10]\n",
        "\n",
        "# Create the plot\n",
        "plt.plot(x, y1, label='Line 1', marker='o')\n",
        "plt.plot(x, y2, label='Line 2', marker='s')\n",
        "\n",
        "# Add title and labels\n",
        "plt.title('Multiple Line Plot')\n",
        "plt.xlabel('X-axis')\n",
        "plt.ylabel('Y-axis')\n",
        "\n",
        "# Show legend\n",
        "plt.legend()\n",
        "\n",
        "# Show plot\n",
        "plt.show()\n",
        "```\n",
        "\n",
        "This will plot two lines with different markers and a legend.\n",
        "\n"
      ],
      "metadata": {
        "id": "bgYSBFQq6z0W"
      }
    },
    {
      "cell_type": "markdown",
      "source": [
        "9. Generate a Pandas DataFrame and filter rows where a column value is greater than a threshold."
      ],
      "metadata": {
        "id": "AiKm_iYN65Aa"
      }
    },
    {
      "cell_type": "markdown",
      "source": [
        "Here’s how you can create a Pandas DataFrame and filter rows where a column’s value is greater than a specific threshold:\n",
        "\n",
        "```python\n",
        "import pandas as pd\n",
        "\n",
        "# Create sample DataFrame\n",
        "data = {\n",
        "    'Name': ['Alice', 'Bob', 'Charlie', 'David'],\n",
        "    'Age': [25, 30, 35, 40],\n",
        "    'Score': [85, 90, 78, 92]\n",
        "}\n",
        "\n",
        "df = pd.DataFrame(data)\n",
        "\n",
        "# Filter rows where 'Age' is greater than 30\n",
        "filtered_df = df[df['Age'] > 30]\n",
        "\n",
        "print(filtered_df)\n",
        "```\n",
        "\n",
        "**Output:**\n",
        "\n",
        "```\n",
        "      Name  Age  Score\n",
        "2  Charlie   35     78\n",
        "3    David   40     92\n",
        "```\n",
        "\n"
      ],
      "metadata": {
        "id": "2LSdScNs7AhQ"
      }
    },
    {
      "cell_type": "markdown",
      "source": [
        "10. Create a histogram using Seaborn to visualize a distribution."
      ],
      "metadata": {
        "id": "c2-19NvX7DP5"
      }
    },
    {
      "cell_type": "markdown",
      "source": [
        "Here’s a simple example of creating a histogram using Seaborn to visualize a data distribution:\n",
        "\n",
        "```python\n",
        "import seaborn as sns\n",
        "import matplotlib.pyplot as plt\n",
        "\n",
        "# Sample data\n",
        "data = [12, 15, 14, 10, 13, 17, 19, 18, 14, 15, 16, 20, 21, 22, 20]\n",
        "\n",
        "# Create histogram\n",
        "sns.histplot(data, bins=5, kde=False, color='skyblue')\n",
        "\n",
        "# Add title and labels\n",
        "plt.title('Sample Histogram')\n",
        "plt.xlabel('Value')\n",
        "plt.ylabel('Frequency')\n",
        "\n",
        "# Show plot\n",
        "plt.show()\n",
        "```\n",
        "\n",
        "* `bins=5` sets the number of bins.\n",
        "* `kde=False` disables the kernel density estimate curve (set to True if you want a smooth curve).\n",
        "\n"
      ],
      "metadata": {
        "id": "2gGs0WW-7L9O"
      }
    },
    {
      "cell_type": "markdown",
      "source": [
        "11. Perform matrix multiplication using NumPy."
      ],
      "metadata": {
        "id": "6265kgbF7Rg-"
      }
    },
    {
      "cell_type": "markdown",
      "source": [
        "Here's how you perform matrix multiplication in NumPy using the `@` operator or `np.dot()`:\n",
        "\n",
        "```python\n",
        "import numpy as np\n",
        "\n",
        "# Define two 2D arrays (matrices)\n",
        "A = np.array([[1, 2],\n",
        "              [3, 4]])\n",
        "\n",
        "B = np.array([[5, 6],\n",
        "              [7, 8]])\n",
        "\n",
        "# Matrix multiplication using @ operator\n",
        "result = A @ B\n",
        "\n",
        "# Or using np.dot()\n",
        "# result = np.dot(A, B)\n",
        "\n",
        "print(result)\n",
        "```\n",
        "\n",
        "**Output:**\n",
        "\n",
        "```\n",
        "[[19 22]\n",
        " [43 50]]\n",
        "```\n",
        "\n"
      ],
      "metadata": {
        "id": "oYB7Nftu7VoS"
      }
    },
    {
      "cell_type": "markdown",
      "source": [
        "12. Use Pandas to load a CSV file and display its first 5 rows."
      ],
      "metadata": {
        "id": "XESGQ7vH7da8"
      }
    },
    {
      "cell_type": "markdown",
      "source": [
        "Here’s how you can use Pandas to load a CSV file and display its first 5 rows:\n",
        "\n",
        "```python\n",
        "import pandas as pd\n",
        "\n",
        "# Load CSV file into DataFrame\n",
        "df = pd.read_csv('your_file.csv')\n",
        "\n",
        "# Display first 5 rows\n",
        "print(df.head())\n",
        "```\n",
        "\n",
        "Replace `'your_file.csv'` with the path to your actual CSV file.\n",
        "\n"
      ],
      "metadata": {
        "id": "cOjvs6Rt7iJr"
      }
    },
    {
      "cell_type": "markdown",
      "source": [
        "13. Create a 3D scatter plot using Plotly."
      ],
      "metadata": {
        "id": "1TjSF3S-7vjG"
      }
    },
    {
      "cell_type": "markdown",
      "source": [
        "Here’s a simple example of creating a 3D scatter plot using Plotly:\n",
        "\n",
        "```python\n",
        "import plotly.graph_objects as go\n",
        "\n",
        "# Sample data\n",
        "x = [1, 2, 3, 4, 5]\n",
        "y = [5, 6, 7, 8, 9]\n",
        "z = [9, 8, 7, 6, 5]\n",
        "\n",
        "# Create 3D scatter plot\n",
        "fig = go.Figure(data=[go.Scatter3d(\n",
        "    x=x,\n",
        "    y=y,\n",
        "    z=z,\n",
        "    mode='markers',\n",
        "    marker=dict(\n",
        "        size=8,\n",
        "        color=z,          # set color to the z values\n",
        "        colorscale='Viridis',   # choose a colorscale\n",
        "        opacity=0.8\n",
        "    )\n",
        ")])\n",
        "\n",
        "# Update layout\n",
        "fig.update_layout(\n",
        "    title='3D Scatter Plot',\n",
        "    scene=dict(\n",
        "        xaxis_title='X Axis',\n",
        "        yaxis_title='Y Axis',\n",
        "        zaxis_title='Z Axis'\n",
        "    )\n",
        ")\n",
        "\n",
        "fig.show()\n",
        "```\n",
        "\n",
        "This will display an interactive 3D scatter plot you can rotate and zoom.\n",
        "\n"
      ],
      "metadata": {
        "id": "WqyuBTtI8pug"
      }
    },
    {
      "cell_type": "markdown",
      "source": [],
      "metadata": {
        "id": "RsqcmIUD8vsh"
      }
    }
  ]
}